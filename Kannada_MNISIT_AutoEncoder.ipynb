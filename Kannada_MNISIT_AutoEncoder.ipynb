{
  "nbformat": 4,
  "nbformat_minor": 0,
  "metadata": {
    "colab": {
      "provenance": [],
      "collapsed_sections": []
    },
    "kernelspec": {
      "name": "python3",
      "display_name": "Python 3"
    },
    "language_info": {
      "name": "python"
    }
  },
  "cells": [
    {
      "cell_type": "markdown",
      "source": [
        "# Kannada MNIST AutoEncoder\n",
        "## Introduction\n",
        "This project aims to build a simple autoencoder using Keras tensorflow. It will be a simple model that can be used to understand the workings of a neural network.<br>\n",
        "As Wikipedia defines it, [Autoencoder](https://en.wikipedia.org/wiki/Autoencoder) usually \"learns representation(encoding) for a set of data, typically for dimensionality reduction, by training the network to igonore insignificant data(noise).\" That's a pretty interesting definition. So, in this network, we'll work through some of the nuances associated with the concept.\n",
        "\n",
        " The dataset was taken from kaggle. \n",
        "The link is given below. <br>\n",
        "[Kannada MNIST dataset](https://www.kaggle.com/datasets/higgstachyon/kannada-mnist/code)"
      ],
      "metadata": {
        "id": "Uc0oesyYpNuN"
      }
    },
    {
      "cell_type": "code",
      "execution_count": null,
      "metadata": {
        "id": "jLnvZ-oso1yH"
      },
      "outputs": [],
      "source": [
        "## Importing the basic required libraries\n",
        "import numpy as np\n",
        "import pandas as pd\n",
        "import matplotlib.pyplot as plt\n",
        "import os\n",
        "\n",
        "# The deep learning libraries that are going to be used\n",
        "from tensorflow import keras\n"
      ]
    },
    {
      "cell_type": "code",
      "source": [
        "os.getcwd()"
      ],
      "metadata": {
        "id": "yLAgFExxMIWd"
      },
      "execution_count": null,
      "outputs": []
    },
    {
      "cell_type": "code",
      "source": [
        "#assigning a variable for the os directory\n",
        "dir = './Kannada_MNIST_datataset_paper\\Kannada_MNIST_npz\\Kannada_MNIST'\n",
        "\n",
        "#assigning all testing and training values\n",
        "x_train = np.load( os.path.join(dir,'X_kannada_MNIST_train.npz'))['arr_0']\n",
        "x_test  = np.load( os.path.join(dir,'X_kannada_MNIST_test.npz'))['arr_0']\n",
        "y_train = np.load( os.path.join(dir,'y_kannada_MNIST_train.npz'))['arr_0']\n",
        "y_test  = np.load( os.path.join(dir,'y_kannada_MNIST_test.npz'))['arr_0']\n",
        "\n",
        "#printing shapes of the basic arrays\n",
        "print(x_train.shape, x_test.shape)"
      ],
      "metadata": {
        "id": "i4yGl3qyLf2r"
      },
      "execution_count": null,
      "outputs": []
    },
    {
      "cell_type": "code",
      "source": [
        "# Importing all other libaries required to do this\n",
        "from keras.layers import Input, Dense, UpSampling2D, Conv2D, MaxPooling2D\n",
        "from keras.models import Model\n",
        "from keras import regularizers"
      ],
      "metadata": {
        "id": "sTp7mXOrOFlT"
      },
      "execution_count": null,
      "outputs": []
    },
    {
      "cell_type": "code",
      "source": [
        "## Defining an Autoencoder using Deep multi Layer perceptrons\n",
        "Enc_dimensions = 32\n",
        "\n",
        "input_img = Input(shape=(784,))\n",
        "\n",
        "#encoder architecture\n",
        "encoded = Dense(128,activation = 'relu')(input_img)\n",
        "encoded = Dense(64, activation = 'relu')(encoded)\n",
        "encoded = Dense(32, activation = 'relu')(encoded)\n",
        "\n",
        "#decoder architecture\n",
        "decoded = Dense(32, activation = 'relu')(encoded)\n",
        "decoded = Dense(64,activation = 'relu')(decoded)\n",
        "decoded = Dense(128,activation = 'relu')(decoded)\n",
        "\n",
        "AutoEnc_model = Model (input_img, decoded)"
      ],
      "metadata": {
        "id": "OrLeQBknM9j6"
      },
      "execution_count": null,
      "outputs": []
    },
    {
      "cell_type": "code",
      "source": [
        "AutoEnc_model.compile(optimizer = 'adadelta',loss='binary_crossentropy')"
      ],
      "metadata": {
        "id": "MemKPm_YQU3U"
      },
      "execution_count": null,
      "outputs": []
    },
    {
      "cell_type": "code",
      "source": [
        "Test = AutoEnc_model.fit(x_train,xtrain,\n",
        "                         epochs = 100,\n",
        "                         batch_size = 256,\n",
        "                         shuffle = True,\n",
        "                         validation_data=(x_test,x_test))"
      ],
      "metadata": {
        "id": "yqNXAtniQw1X"
      },
      "execution_count": null,
      "outputs": []
    },
    {
      "cell_type": "code",
      "source": [
        "Predict = AutoEnc_model.predict(x_test)"
      ],
      "metadata": {
        "id": "q-JFmUFeRo2y"
      },
      "execution_count": null,
      "outputs": []
    },
    {
      "cell_type": "code",
      "source": [],
      "metadata": {
        "id": "xx8Inp9dRotZ"
      },
      "execution_count": null,
      "outputs": []
    }
  ]
}